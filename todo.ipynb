{
  "nbformat": 4,
  "nbformat_minor": 0,
  "metadata": {
    "colab": {
      "provenance": [],
      "authorship_tag": "ABX9TyMTB+qeBYziCnyV+YsddH5N",
      "include_colab_link": true
    },
    "kernelspec": {
      "name": "python3",
      "display_name": "Python 3"
    },
    "language_info": {
      "name": "python"
    }
  },
  "cells": [
    {
      "cell_type": "markdown",
      "metadata": {
        "id": "view-in-github",
        "colab_type": "text"
      },
      "source": [
        "<a href=\"https://colab.research.google.com/github/3104305x/1_project_x/blob/main/todo.ipynb\" target=\"_parent\"><img src=\"https://colab.research.google.com/assets/colab-badge.svg\" alt=\"Open In Colab\"/></a>"
      ]
    },
    {
      "cell_type": "markdown",
      "source": [
        "处理图片服务器中图片文件, 删除无用图片, 重复图片仅保留一张, 删除其它多余图片"
      ],
      "metadata": {
        "id": "PwfMqCFD6fXN"
      }
    },
    {
      "cell_type": "markdown",
      "source": [],
      "metadata": {
        "id": "D4SXc1qv-A0u"
      }
    },
    {
      "cell_type": "code",
      "source": [
        "# prompt: 使用pymysql与mysql数据库建立连接, 读取 数据库 www_xxx_com 中的 表 fa_cms_archives 中的 image 字段内容,  读取 数据表 fa_cms_addonnews 中 content 字段 内容\n",
        "\n",
        "import pymysql\n",
        "\n",
        "# 连接数据库\n",
        "conn = pymysql.connect(host='127.0.0.1', port=3306, user='root', passwd='123456', db='www_xxx_com')\n",
        "\n",
        "# 创建游标\n",
        "cursor = conn.cursor()\n",
        "\n",
        "# 读取数据库www_xxx_com中的表fa_cms_archives中的image字段内容\n",
        "cursor.execute('SELECT image FROM fa_cms_archives')\n",
        "images = cursor.fetchall()\n",
        "\n",
        "# 读取数据表fa_cms_addonnews中的content字段内容\n",
        "cursor.execute('SELECT content FROM fa_cms_addonnews')\n",
        "contents = cursor.fetchall()\n",
        "\n",
        "# 关闭游标和连接\n",
        "cursor.close()\n",
        "conn.close()\n"
      ],
      "metadata": {
        "id": "p9ConQ-w9PmX"
      },
      "execution_count": null,
      "outputs": []
    },
    {
      "cell_type": "markdown",
      "source": [
        "image 字段内容为相对路径 '/uploads/20220902/5154837b7940290575854283ced96b16.png'\n",
        "content 字段内容为 html文本, 需要使用 BeautifulSoup 解析为html对象, 然后获取所有img对象的src内容"
      ],
      "metadata": {
        "id": "CCzlE8FwGQzG"
      }
    },
    {
      "cell_type": "code",
      "source": [
        "# prompt: content 字段内容为 html文本, 需要使用 BeautifulSoup 解析为html对象, 然后获取所有img对象的src内容\n",
        "\n",
        "from bs4 import BeautifulSoup\n",
        "import re\n",
        "image_set = set()\n",
        "for content in contents:\n",
        "  soup = BeautifulSoup(content[0], 'html.parser')\n",
        "  imgs = soup.find_all('img')\n",
        "  for img in imgs:\n",
        "    src = img.get('src')\n",
        "    if src:\n",
        "      image_set.add(src)\n"
      ],
      "metadata": {
        "id": "NCjmpoLrGGL-"
      },
      "execution_count": null,
      "outputs": []
    },
    {
      "cell_type": "code",
      "source": [
        "# prompt: 修改上述代码, 如果 src 地址是包含 域名 的url, 如 'https://www.jk5u.com/uploads/20220906/d255344f5fdcbca32ad1fb42a6bf1793.jpeg', 仅保留相对路径, 如 '/uploads/20220906/d255344f5fdcbca32ad1fb42a6bf1793.jpeg'\n",
        "\n",
        "image_set = set()\n",
        "for content in contents:\n",
        "  soup = BeautifulSoup(content[0], 'html.parser')\n",
        "  imgs = soup.find_all('img')\n",
        "  for img in imgs:\n",
        "    src = img.get('src')\n",
        "    if src:\n",
        "      if 'http' in src:\n",
        "        src = src[src.find('/uploads/'):]\n",
        "      image_set.add(src)\n"
      ],
      "metadata": {
        "id": "39ZAsbT4HKSn"
      },
      "execution_count": null,
      "outputs": []
    },
    {
      "cell_type": "markdown",
      "source": [
        "根据图片相对路径, 查找在 图片服务器 中的图片, 并对图片进行去重操作"
      ],
      "metadata": {
        "id": "5TLICmQUIEu5"
      }
    },
    {
      "cell_type": "code",
      "source": [],
      "metadata": {
        "id": "h5nMAsbQIbB_"
      },
      "execution_count": null,
      "outputs": []
    }
  ]
}